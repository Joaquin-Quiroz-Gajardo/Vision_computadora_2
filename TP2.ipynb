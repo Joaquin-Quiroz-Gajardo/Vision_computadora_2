{
  "nbformat": 4,
  "nbformat_minor": 0,
  "metadata": {
    "colab": {
      "name": "TP2.ipynb",
      "provenance": [],
      "collapsed_sections": []
    },
    "kernelspec": {
      "name": "python3",
      "display_name": "Python 3"
    },
    "language_info": {
      "name": "python"
    },
    "widgets": {
      "application/vnd.jupyter.widget-state+json": {
        "15a09e0fdfe64e9fa96fef39c8d5a06b": {
          "model_module": "@jupyter-widgets/controls",
          "model_name": "HBoxModel",
          "model_module_version": "1.5.0",
          "state": {
            "_dom_classes": [],
            "_model_module": "@jupyter-widgets/controls",
            "_model_module_version": "1.5.0",
            "_model_name": "HBoxModel",
            "_view_count": null,
            "_view_module": "@jupyter-widgets/controls",
            "_view_module_version": "1.5.0",
            "_view_name": "HBoxView",
            "box_style": "",
            "children": [
              "IPY_MODEL_1435c1f63ef44c7a9d41e8e569cce6dd",
              "IPY_MODEL_6f262e5fcfd84288a7117593a7ad2e52",
              "IPY_MODEL_7f787114e1284e02b8713db02a4ee2dc"
            ],
            "layout": "IPY_MODEL_1a3472dbaf6d472ab4c7c886cac37c5f"
          }
        },
        "1435c1f63ef44c7a9d41e8e569cce6dd": {
          "model_module": "@jupyter-widgets/controls",
          "model_name": "HTMLModel",
          "model_module_version": "1.5.0",
          "state": {
            "_dom_classes": [],
            "_model_module": "@jupyter-widgets/controls",
            "_model_module_version": "1.5.0",
            "_model_name": "HTMLModel",
            "_view_count": null,
            "_view_module": "@jupyter-widgets/controls",
            "_view_module_version": "1.5.0",
            "_view_name": "HTMLView",
            "description": "",
            "description_tooltip": null,
            "layout": "IPY_MODEL_5109c44350b845f6b22601bba6073c31",
            "placeholder": "​",
            "style": "IPY_MODEL_6333bf2e2abf485485e44a9a25f45c92",
            "value": ""
          }
        },
        "6f262e5fcfd84288a7117593a7ad2e52": {
          "model_module": "@jupyter-widgets/controls",
          "model_name": "FloatProgressModel",
          "model_module_version": "1.5.0",
          "state": {
            "_dom_classes": [],
            "_model_module": "@jupyter-widgets/controls",
            "_model_module_version": "1.5.0",
            "_model_name": "FloatProgressModel",
            "_view_count": null,
            "_view_module": "@jupyter-widgets/controls",
            "_view_module_version": "1.5.0",
            "_view_name": "ProgressView",
            "bar_style": "success",
            "description": "",
            "description_tooltip": null,
            "layout": "IPY_MODEL_adf71048283f4385af4246ce1eddb9bd",
            "max": 170498071,
            "min": 0,
            "orientation": "horizontal",
            "style": "IPY_MODEL_285d1bbf42594c7a925aec8dc7a9447b",
            "value": 170498071
          }
        },
        "7f787114e1284e02b8713db02a4ee2dc": {
          "model_module": "@jupyter-widgets/controls",
          "model_name": "HTMLModel",
          "model_module_version": "1.5.0",
          "state": {
            "_dom_classes": [],
            "_model_module": "@jupyter-widgets/controls",
            "_model_module_version": "1.5.0",
            "_model_name": "HTMLModel",
            "_view_count": null,
            "_view_module": "@jupyter-widgets/controls",
            "_view_module_version": "1.5.0",
            "_view_name": "HTMLView",
            "description": "",
            "description_tooltip": null,
            "layout": "IPY_MODEL_90d84b6032e9446eb6469038e47208c4",
            "placeholder": "​",
            "style": "IPY_MODEL_552e48f889c74fb7a9c646ff6444bb2d",
            "value": " 170499072/? [00:02&lt;00:00, 59447342.58it/s]"
          }
        },
        "1a3472dbaf6d472ab4c7c886cac37c5f": {
          "model_module": "@jupyter-widgets/base",
          "model_name": "LayoutModel",
          "model_module_version": "1.2.0",
          "state": {
            "_model_module": "@jupyter-widgets/base",
            "_model_module_version": "1.2.0",
            "_model_name": "LayoutModel",
            "_view_count": null,
            "_view_module": "@jupyter-widgets/base",
            "_view_module_version": "1.2.0",
            "_view_name": "LayoutView",
            "align_content": null,
            "align_items": null,
            "align_self": null,
            "border": null,
            "bottom": null,
            "display": null,
            "flex": null,
            "flex_flow": null,
            "grid_area": null,
            "grid_auto_columns": null,
            "grid_auto_flow": null,
            "grid_auto_rows": null,
            "grid_column": null,
            "grid_gap": null,
            "grid_row": null,
            "grid_template_areas": null,
            "grid_template_columns": null,
            "grid_template_rows": null,
            "height": null,
            "justify_content": null,
            "justify_items": null,
            "left": null,
            "margin": null,
            "max_height": null,
            "max_width": null,
            "min_height": null,
            "min_width": null,
            "object_fit": null,
            "object_position": null,
            "order": null,
            "overflow": null,
            "overflow_x": null,
            "overflow_y": null,
            "padding": null,
            "right": null,
            "top": null,
            "visibility": null,
            "width": null
          }
        },
        "5109c44350b845f6b22601bba6073c31": {
          "model_module": "@jupyter-widgets/base",
          "model_name": "LayoutModel",
          "model_module_version": "1.2.0",
          "state": {
            "_model_module": "@jupyter-widgets/base",
            "_model_module_version": "1.2.0",
            "_model_name": "LayoutModel",
            "_view_count": null,
            "_view_module": "@jupyter-widgets/base",
            "_view_module_version": "1.2.0",
            "_view_name": "LayoutView",
            "align_content": null,
            "align_items": null,
            "align_self": null,
            "border": null,
            "bottom": null,
            "display": null,
            "flex": null,
            "flex_flow": null,
            "grid_area": null,
            "grid_auto_columns": null,
            "grid_auto_flow": null,
            "grid_auto_rows": null,
            "grid_column": null,
            "grid_gap": null,
            "grid_row": null,
            "grid_template_areas": null,
            "grid_template_columns": null,
            "grid_template_rows": null,
            "height": null,
            "justify_content": null,
            "justify_items": null,
            "left": null,
            "margin": null,
            "max_height": null,
            "max_width": null,
            "min_height": null,
            "min_width": null,
            "object_fit": null,
            "object_position": null,
            "order": null,
            "overflow": null,
            "overflow_x": null,
            "overflow_y": null,
            "padding": null,
            "right": null,
            "top": null,
            "visibility": null,
            "width": null
          }
        },
        "6333bf2e2abf485485e44a9a25f45c92": {
          "model_module": "@jupyter-widgets/controls",
          "model_name": "DescriptionStyleModel",
          "model_module_version": "1.5.0",
          "state": {
            "_model_module": "@jupyter-widgets/controls",
            "_model_module_version": "1.5.0",
            "_model_name": "DescriptionStyleModel",
            "_view_count": null,
            "_view_module": "@jupyter-widgets/base",
            "_view_module_version": "1.2.0",
            "_view_name": "StyleView",
            "description_width": ""
          }
        },
        "adf71048283f4385af4246ce1eddb9bd": {
          "model_module": "@jupyter-widgets/base",
          "model_name": "LayoutModel",
          "model_module_version": "1.2.0",
          "state": {
            "_model_module": "@jupyter-widgets/base",
            "_model_module_version": "1.2.0",
            "_model_name": "LayoutModel",
            "_view_count": null,
            "_view_module": "@jupyter-widgets/base",
            "_view_module_version": "1.2.0",
            "_view_name": "LayoutView",
            "align_content": null,
            "align_items": null,
            "align_self": null,
            "border": null,
            "bottom": null,
            "display": null,
            "flex": null,
            "flex_flow": null,
            "grid_area": null,
            "grid_auto_columns": null,
            "grid_auto_flow": null,
            "grid_auto_rows": null,
            "grid_column": null,
            "grid_gap": null,
            "grid_row": null,
            "grid_template_areas": null,
            "grid_template_columns": null,
            "grid_template_rows": null,
            "height": null,
            "justify_content": null,
            "justify_items": null,
            "left": null,
            "margin": null,
            "max_height": null,
            "max_width": null,
            "min_height": null,
            "min_width": null,
            "object_fit": null,
            "object_position": null,
            "order": null,
            "overflow": null,
            "overflow_x": null,
            "overflow_y": null,
            "padding": null,
            "right": null,
            "top": null,
            "visibility": null,
            "width": null
          }
        },
        "285d1bbf42594c7a925aec8dc7a9447b": {
          "model_module": "@jupyter-widgets/controls",
          "model_name": "ProgressStyleModel",
          "model_module_version": "1.5.0",
          "state": {
            "_model_module": "@jupyter-widgets/controls",
            "_model_module_version": "1.5.0",
            "_model_name": "ProgressStyleModel",
            "_view_count": null,
            "_view_module": "@jupyter-widgets/base",
            "_view_module_version": "1.2.0",
            "_view_name": "StyleView",
            "bar_color": null,
            "description_width": ""
          }
        },
        "90d84b6032e9446eb6469038e47208c4": {
          "model_module": "@jupyter-widgets/base",
          "model_name": "LayoutModel",
          "model_module_version": "1.2.0",
          "state": {
            "_model_module": "@jupyter-widgets/base",
            "_model_module_version": "1.2.0",
            "_model_name": "LayoutModel",
            "_view_count": null,
            "_view_module": "@jupyter-widgets/base",
            "_view_module_version": "1.2.0",
            "_view_name": "LayoutView",
            "align_content": null,
            "align_items": null,
            "align_self": null,
            "border": null,
            "bottom": null,
            "display": null,
            "flex": null,
            "flex_flow": null,
            "grid_area": null,
            "grid_auto_columns": null,
            "grid_auto_flow": null,
            "grid_auto_rows": null,
            "grid_column": null,
            "grid_gap": null,
            "grid_row": null,
            "grid_template_areas": null,
            "grid_template_columns": null,
            "grid_template_rows": null,
            "height": null,
            "justify_content": null,
            "justify_items": null,
            "left": null,
            "margin": null,
            "max_height": null,
            "max_width": null,
            "min_height": null,
            "min_width": null,
            "object_fit": null,
            "object_position": null,
            "order": null,
            "overflow": null,
            "overflow_x": null,
            "overflow_y": null,
            "padding": null,
            "right": null,
            "top": null,
            "visibility": null,
            "width": null
          }
        },
        "552e48f889c74fb7a9c646ff6444bb2d": {
          "model_module": "@jupyter-widgets/controls",
          "model_name": "DescriptionStyleModel",
          "model_module_version": "1.5.0",
          "state": {
            "_model_module": "@jupyter-widgets/controls",
            "_model_module_version": "1.5.0",
            "_model_name": "DescriptionStyleModel",
            "_view_count": null,
            "_view_module": "@jupyter-widgets/base",
            "_view_module_version": "1.2.0",
            "_view_name": "StyleView",
            "description_width": ""
          }
        }
      }
    }
  },
  "cells": [
    {
      "cell_type": "markdown",
      "source": [
        "## Ejercicio Práctico - Clase 2 VPC2 - 4co2021\n",
        "\n",
        "Generar una red convolucional con las siguientes caracteristicas:\n",
        "\n",
        "*   Conv1: cantidad de filtros=16, tramaño de filtro=3, stride=1, padding=\"same\"\n",
        "*   Pool1: MaxPooling, tamaño de filtro=2, stride=2\n",
        "*   Conv2: cantidad de filtros=32, tramaño de filtro=3, stride=1, padding=\"same\"\n",
        "*   Pool2: MaxPooling, tamaño de filtro=2, stride=2\n",
        "*   Conv3: cantidad de filtros=64, tramaño de filtro=3, stride=1, padding=\"same\"\n",
        "*   Pool3: MaxPooling, tamaño de filtro=2, stride=2\n",
        "*   Conv4: cantidad de filtros=128, tramaño de filtro=3, stride=1, padding=\"same\"\n",
        "*   Linear1: cantidad de neuronas=100\n",
        "*   Linear2: capa de salida\n",
        "\n",
        "Elegir la función de activación que crean mas conveniente.\n",
        "\n",
        "Ejercicios:\n",
        "\n",
        "1.   Utilizando el dataset CIFAR10, provisto por PyTorch, entrenar la red sin aplicar data augmentation durante, al menos, 20 epocas. Se produce sobreentrenamiento?\n",
        "2.   Utilizando el mismo dataset y aplicando las tecnicas de data augmentation que considere necesarias, entrenar nuevamente la red durante, al menos, 20 epocas sin que se produzca sobreentrenamiento hasta alcanzar un accuracy de 80% aproximadamente.\n",
        "3.   A partir de los resultados obtenidos en los puntos anteriores: ¿Por qué cree que en el segundo caso el ritmo de mejora de la red es mas lento que en el primero?"
      ],
      "metadata": {
        "id": "eFGGz3eRnJIG"
      }
    },
    {
      "cell_type": "code",
      "execution_count": 1,
      "metadata": {
        "id": "hqcmu5Z6m8-p"
      },
      "outputs": [],
      "source": [
        "import torch\n",
        "import torchvision\n",
        "import matplotlib.pyplot as plt\n",
        "from torchvision import datasets\n",
        "from torch.utils.data import Dataset\n",
        "from torchvision.transforms import ToTensor\n",
        "import numpy as np"
      ]
    },
    {
      "cell_type": "code",
      "source": [
        "training_data = datasets.CIFAR10(\n",
        "    root=\"data\",\n",
        "    train=True,\n",
        "    download=True,\n",
        "    transform=ToTensor()\n",
        ")\n",
        "\n",
        "test_data = datasets.CIFAR10(\n",
        "    root=\"data\",\n",
        "    train=False,\n",
        "    download=True,\n",
        "    transform=ToTensor()\n",
        ")\n",
        "\n",
        "training_loader = torch.utils.data.DataLoader(training_data, batch_size=10, shuffle=True, num_workers=2)\n",
        "test_loader = torch.utils.data.DataLoader(test_data, batch_size=10, shuffle=False, num_workers=2)"
      ],
      "metadata": {
        "colab": {
          "base_uri": "https://localhost:8080/",
          "height": 101,
          "referenced_widgets": [
            "15a09e0fdfe64e9fa96fef39c8d5a06b",
            "1435c1f63ef44c7a9d41e8e569cce6dd",
            "6f262e5fcfd84288a7117593a7ad2e52",
            "7f787114e1284e02b8713db02a4ee2dc",
            "1a3472dbaf6d472ab4c7c886cac37c5f",
            "5109c44350b845f6b22601bba6073c31",
            "6333bf2e2abf485485e44a9a25f45c92",
            "adf71048283f4385af4246ce1eddb9bd",
            "285d1bbf42594c7a925aec8dc7a9447b",
            "90d84b6032e9446eb6469038e47208c4",
            "552e48f889c74fb7a9c646ff6444bb2d"
          ]
        },
        "id": "E-6YfzvNoR1j",
        "outputId": "3603f58b-3747-4f91-8824-35650924958e"
      },
      "execution_count": 2,
      "outputs": [
        {
          "output_type": "stream",
          "name": "stdout",
          "text": [
            "Downloading https://www.cs.toronto.edu/~kriz/cifar-10-python.tar.gz to data/cifar-10-python.tar.gz\n"
          ]
        },
        {
          "output_type": "display_data",
          "data": {
            "text/plain": [
              "  0%|          | 0/170498071 [00:00<?, ?it/s]"
            ],
            "application/vnd.jupyter.widget-view+json": {
              "version_major": 2,
              "version_minor": 0,
              "model_id": "15a09e0fdfe64e9fa96fef39c8d5a06b"
            }
          },
          "metadata": {}
        },
        {
          "output_type": "stream",
          "name": "stdout",
          "text": [
            "Extracting data/cifar-10-python.tar.gz to data\n",
            "Files already downloaded and verified\n"
          ]
        }
      ]
    },
    {
      "cell_type": "code",
      "source": [
        "print(\"test data:\",len(test_data),\"\\ntrain data:\", len(training_data))"
      ],
      "metadata": {
        "colab": {
          "base_uri": "https://localhost:8080/"
        },
        "id": "kOlcjvhqqaIC",
        "outputId": "7f1141df-1cd4-45bc-f16e-c4da4ecad422"
      },
      "execution_count": 3,
      "outputs": [
        {
          "output_type": "stream",
          "name": "stdout",
          "text": [
            "test data: 10000 \n",
            "train data: 50000\n"
          ]
        }
      ]
    },
    {
      "cell_type": "code",
      "source": [
        "labels_map = {\n",
        "    0: \"airplanes\",\n",
        "    1: \"cars\",\n",
        "    2: \"birds\",\n",
        "    3: \"cats\",\n",
        "    4: \"deer\",\n",
        "    5: \"dogs\",\n",
        "    6: \"frogs\",\n",
        "    7: \"horses\",\n",
        "    8: \"ships\",\n",
        "    9: \"trucks\",\n",
        "}\n",
        "figure = plt.figure(figsize=(8, 8))\n",
        "cols, rows = 3, 3\n",
        "for i in range(1, cols * rows + 1):\n",
        "    sample_idx = torch.randint(len(training_data), size=(1,)).item()\n",
        "    img, label = training_data[sample_idx]\n",
        "    figure.add_subplot(rows, cols, i)\n",
        "    plt.title(labels_map[label])\n",
        "    plt.axis(\"off\")\n",
        "    plt.imshow(img.permute(1, 2, 0))\n",
        "plt.show()"
      ],
      "metadata": {
        "colab": {
          "base_uri": "https://localhost:8080/",
          "height": 482
        },
        "id": "34p6z8HxDSOC",
        "outputId": "2b16b280-93f1-4941-976c-5e95b636c88f"
      },
      "execution_count": 4,
      "outputs": [
        {
          "output_type": "display_data",
          "data": {
            "text/plain": [
              "<Figure size 576x576 with 9 Axes>"
            ],
            "image/png": "[encoded data removed]"
          },
          "metadata": {
            "needs_background": "light"
          }
        }
      ]
    },
    {
      "cell_type": "code",
      "source": [
        "class Model(torch.nn.Module):\n",
        "    def __init__(self):\n",
        "        super(Model, self).__init__()# super(GarmentClassifier, self).__init__()\n",
        "        self.conv1=torch.nn.Conv2d(in_channels=3, out_channels=16, kernel_size=3,stride=1,padding=\"same\")\n",
        "        self.pool1=torch.nn.MaxPool2d(kernel_size=2,stride=2)\n",
        "        self.conv2=torch.nn.Conv2d(in_channels=16, out_channels=32, kernel_size=3,stride=1,padding=\"same\")\n",
        "        self.pool2=torch.nn.MaxPool2d(kernel_size=2,stride=2)\n",
        "        self.conv3=torch.nn.Conv2d(in_channels=32, out_channels=64, kernel_size=3,stride=1,padding=\"same\")\n",
        "        self.pool3=torch.nn.MaxPool2d(kernel_size=2,stride=2)\n",
        "        self.conv4=torch.nn.Conv2d(in_channels=64, out_channels=128, kernel_size=3,stride=1,padding=\"same\")\n",
        "        self.fc1 = torch.nn.Linear(in_features=128*4*4, out_features=100)\n",
        "        self.fc2 = torch.nn.Linear(in_features=100, out_features=10)\n",
        "\n",
        "    def forward(self, x):\n",
        "        x = self.pool1(torch.relu(self.conv1(x)))\n",
        "        x = self.pool2(torch.relu(self.conv2(x)))\n",
        "        x = self.pool3(torch.relu(self.conv3(x)))\n",
        "        x = torch.relu(self.conv4(x))\n",
        "        x = torch.flatten(x, 1)\n",
        "        x = torch.relu(self.fc1(x))\n",
        "        x = self.fc2(x)\n",
        "        return x\n",
        "\n",
        "model = Model()"
      ],
      "metadata": {
        "id": "34yrKFpNJwQD"
      },
      "execution_count": 5,
      "outputs": []
    },
    {
      "cell_type": "code",
      "source": [
        "# import torch.nn as nn\n",
        "# import torch.nn.functional as F\n",
        "\n",
        "\n",
        "# class Net(nn.Module):\n",
        "#     def __init__(self):\n",
        "#         super().__init__()\n",
        "#         self.conv1 = nn.Conv2d(3, 6, 5)\n",
        "#         self.pool = nn.MaxPool2d(2, 2)\n",
        "#         self.conv2 = nn.Conv2d(6, 16, 5)\n",
        "#         self.fc1 = nn.Linear(16 * 5 * 5, 120)\n",
        "#         self.fc2 = nn.Linear(120, 84)\n",
        "#         self.fc3 = nn.Linear(84, 10)\n",
        "\n",
        "#     def forward(self, x):\n",
        "#         x = self.pool(F.relu(self.conv1(x)))\n",
        "#         x = self.pool(F.relu(self.conv2(x)))\n",
        "#         x = torch.flatten(x, 1) # flatten all dimensions except batch\n",
        "#         x = F.relu(self.fc1(x))\n",
        "#         x = F.relu(self.fc2(x))\n",
        "#         x = self.fc3(x)\n",
        "#         return x\n",
        "\n",
        "\n",
        "# model = Net()"
      ],
      "metadata": {
        "id": "JKjegJ9UVHse"
      },
      "execution_count": 6,
      "outputs": []
    },
    {
      "cell_type": "code",
      "source": [
        "loss_fn = torch.nn.CrossEntropyLoss()"
      ],
      "metadata": {
        "id": "-psi9d8PGG2X"
      },
      "execution_count": 7,
      "outputs": []
    },
    {
      "cell_type": "code",
      "source": [
        "optimizer = torch.optim.SGD(model.parameters(), lr=0.01)"
      ],
      "metadata": {
        "id": "xW2Yev3sGHaz"
      },
      "execution_count": 8,
      "outputs": []
    },
    {
      "cell_type": "code",
      "source": [
        "for epoch in range(30):  # loop over the dataset multiple times\n",
        "\n",
        "    running_loss = 0.0\n",
        "    for i, data in enumerate(training_loader, 0):\n",
        "        # get the inputs; data is a list of [inputs, labels]\n",
        "        inputs, labels = data\n",
        "\n",
        "        # zero the parameter gradients\n",
        "        optimizer.zero_grad()\n",
        "\n",
        "        # forward + backward + optimize\n",
        "        outputs = model(inputs)\n",
        "        loss = loss_fn(outputs, labels)\n",
        "        loss.backward()\n",
        "        optimizer.step()\n",
        "\n",
        "        # print statistics\n",
        "        running_loss += loss.item()\n",
        "        if i % 2000 == 1999:    # print every 2000 mini-batches\n",
        "            print(f'[{epoch + 1}, {i + 1:5d}] loss: {running_loss / 2000:.3f}')\n",
        "            running_loss = 0.0\n",
        "\n",
        "print('Finished Training')"
      ],
      "metadata": {
        "colab": {
          "base_uri": "https://localhost:8080/"
        },
        "id": "mBpOl0PXNksa",
        "outputId": "8eec195a-06a0-4ed6-bb55-894118760f5a"
      },
      "execution_count": 9,
      "outputs": [
        {
          "output_type": "stream",
          "name": "stdout",
          "text": [
            "[1,  2000] loss: 2.300\n",
            "[1,  4000] loss: 2.085\n",
            "[2,  2000] loss: 1.789\n",
            "[2,  4000] loss: 1.640\n",
            "[3,  2000] loss: 1.462\n",
            "[3,  4000] loss: 1.368\n",
            "[4,  2000] loss: 1.244\n",
            "[4,  4000] loss: 1.181\n",
            "[5,  2000] loss: 1.078\n",
            "[5,  4000] loss: 1.032\n",
            "[6,  2000] loss: 0.935\n",
            "[6,  4000] loss: 0.907\n",
            "[7,  2000] loss: 0.828\n",
            "[7,  4000] loss: 0.815\n",
            "[8,  2000] loss: 0.736\n",
            "[8,  4000] loss: 0.736\n",
            "[9,  2000] loss: 0.658\n",
            "[9,  4000] loss: 0.677\n",
            "[10,  2000] loss: 0.590\n",
            "[10,  4000] loss: 0.608\n",
            "[11,  2000] loss: 0.517\n",
            "[11,  4000] loss: 0.546\n",
            "[12,  2000] loss: 0.447\n",
            "[12,  4000] loss: 0.494\n",
            "[13,  2000] loss: 0.408\n",
            "[13,  4000] loss: 0.435\n",
            "[14,  2000] loss: 0.345\n",
            "[14,  4000] loss: 0.375\n",
            "[15,  2000] loss: 0.295\n",
            "[15,  4000] loss: 0.344\n",
            "[16,  2000] loss: 0.249\n",
            "[16,  4000] loss: 0.288\n",
            "[17,  2000] loss: 0.203\n",
            "[17,  4000] loss: 0.264\n",
            "[18,  2000] loss: 0.180\n",
            "[18,  4000] loss: 0.232\n",
            "[19,  2000] loss: 0.159\n",
            "[19,  4000] loss: 0.205\n",
            "[20,  2000] loss: 0.152\n",
            "[20,  4000] loss: 0.193\n",
            "[21,  2000] loss: 0.128\n",
            "[21,  4000] loss: 0.163\n",
            "[22,  2000] loss: 0.135\n",
            "[22,  4000] loss: 0.162\n",
            "[23,  2000] loss: 0.117\n",
            "[23,  4000] loss: 0.151\n",
            "[24,  2000] loss: 0.107\n",
            "[24,  4000] loss: 0.138\n",
            "[25,  2000] loss: 0.097\n",
            "[25,  4000] loss: 0.113\n",
            "[26,  2000] loss: 0.087\n",
            "[26,  4000] loss: 0.127\n",
            "[27,  2000] loss: 0.091\n",
            "[27,  4000] loss: 0.110\n",
            "[28,  2000] loss: 0.079\n",
            "[28,  4000] loss: 0.104\n",
            "[29,  2000] loss: 0.086\n",
            "[29,  4000] loss: 0.124\n",
            "[30,  2000] loss: 0.081\n",
            "[30,  4000] loss: 0.114\n",
            "Finished Training\n"
          ]
        }
      ]
    },
    {
      "cell_type": "code",
      "source": [
        "correct = 0\n",
        "total = 0\n",
        "# since we're not training, we don't need to calculate the gradients for our outputs\n",
        "with torch.no_grad():\n",
        "    for data in test_loader:\n",
        "        images, labels = data\n",
        "        # calculate outputs by running images through the network\n",
        "        outputs = model(images)\n",
        "        # the class with the highest energy is what we choose as prediction\n",
        "        _, predicted = torch.max(outputs.data, 1)\n",
        "        total += labels.size(0)\n",
        "        correct += (predicted == labels).sum().item()\n",
        "\n",
        "print(f'Accuracy of the network on the 10000 test images: {100 * correct // total} %')"
      ],
      "metadata": {
        "colab": {
          "base_uri": "https://localhost:8080/"
        },
        "id": "B0jT2ry9sHY9",
        "outputId": "762ba96f-fdf3-405a-d998-6421aab39b47"
      },
      "execution_count": 10,
      "outputs": [
        {
          "output_type": "stream",
          "name": "stdout",
          "text": [
            "Accuracy of the network on the 10000 test images: 71 %\n"
          ]
        }
      ]
    },
    {
      "cell_type": "markdown",
      "source": [
        "# Aplicando data augmentation"
      ],
      "metadata": {
        "id": "SKPiapSVe6j_"
      }
    },
    {
      "cell_type": "code",
      "source": [
        "aud_data_transforms = torchvision.transforms.Compose([\n",
        "                        torchvision.transforms.RandomHorizontalFlip(0.5),\n",
        "                        torchvision.transforms.ColorJitter(saturation=0.05, hue=0.05),\n",
        "                        torchvision.transforms.ToTensor(),\n",
        "                      ])\n",
        "\n",
        "training_data = datasets.CIFAR10(\n",
        "    root=\"data\",\n",
        "    train=True,\n",
        "    download=True,\n",
        "    transform=aud_data_transforms\n",
        ")\n",
        "\n",
        "test_data = datasets.CIFAR10(\n",
        "    root=\"data\",\n",
        "    train=False,\n",
        "    download=True,\n",
        "    transform=aud_data_transforms#ToTensor()\n",
        ")\n",
        "\n",
        "training_loader = torch.utils.data.DataLoader(training_data, batch_size=10, shuffle=True, num_workers=2)\n",
        "test_loader = torch.utils.data.DataLoader(test_data, batch_size=10, shuffle=False, num_workers=2)"
      ],
      "metadata": {
        "colab": {
          "base_uri": "https://localhost:8080/"
        },
        "id": "0euWMF_4smOP",
        "outputId": "9a8f5e51-6024-458e-dfbe-0302db2c7ba1"
      },
      "execution_count": 18,
      "outputs": [
        {
          "output_type": "stream",
          "name": "stdout",
          "text": [
            "Files already downloaded and verified\n",
            "Files already downloaded and verified\n"
          ]
        }
      ]
    },
    {
      "cell_type": "code",
      "source": [
        "training_data"
      ],
      "metadata": {
        "colab": {
          "base_uri": "https://localhost:8080/"
        },
        "id": "mWsGkHQ-fbQ1",
        "outputId": "7a156217-c636-45cc-a1e3-8bbf0d811ac2"
      },
      "execution_count": 12,
      "outputs": [
        {
          "output_type": "execute_result",
          "data": {
            "text/plain": [
              "Dataset CIFAR10\n",
              "    Number of datapoints: 50000\n",
              "    Root location: data\n",
              "    Split: Train\n",
              "    StandardTransform\n",
              "Transform: Compose(\n",
              "               RandomHorizontalFlip(p=0.5)\n",
              "               ColorJitter(brightness=None, contrast=None, saturation=[0.95, 1.05], hue=[-0.05, 0.05])\n",
              "               ToTensor()\n",
              "           )"
            ]
          },
          "metadata": {},
          "execution_count": 12
        }
      ]
    },
    {
      "cell_type": "code",
      "source": [
        "new_model = Model()\n",
        "optimizer = torch.optim.SGD(new_model.parameters(), lr=0.01)\n",
        "for epoch in range(40):  # loop over the dataset multiple times\n",
        "\n",
        "    running_loss = 0.0\n",
        "    for i, data in enumerate(training_loader, 0):\n",
        "        # get the inputs; data is a list of [inputs, labels]\n",
        "        inputs, labels = data\n",
        "\n",
        "        # zero the parameter gradients\n",
        "        optimizer.zero_grad()\n",
        "\n",
        "        # forward + backward + optimize\n",
        "        outputs = new_model(inputs)\n",
        "        loss = loss_fn(outputs, labels)\n",
        "        loss.backward()\n",
        "        optimizer.step()\n",
        "\n",
        "        # print statistics\n",
        "        running_loss += loss.item()\n",
        "        if i % 2000 == 1999:    # print every 2000 mini-batches\n",
        "            print(f'[{epoch + 1}, {i + 1:5d}] loss: {running_loss / 2000:.3f}')\n",
        "            running_loss = 0.0\n",
        "\n",
        "print('Finished Training')"
      ],
      "metadata": {
        "colab": {
          "base_uri": "https://localhost:8080/"
        },
        "id": "si-aC5WRfuX1",
        "outputId": "a8d7ff4d-90fa-434a-da49-26f3b1111ba9"
      },
      "execution_count": 16,
      "outputs": [
        {
          "output_type": "stream",
          "name": "stdout",
          "text": [
            "[1,  2000] loss: 2.302\n",
            "[1,  4000] loss: 2.249\n",
            "[2,  2000] loss: 1.899\n",
            "[2,  4000] loss: 1.678\n",
            "[3,  2000] loss: 1.505\n",
            "[3,  4000] loss: 1.439\n",
            "[4,  2000] loss: 1.320\n",
            "[4,  4000] loss: 1.260\n",
            "[5,  2000] loss: 1.164\n",
            "[5,  4000] loss: 1.136\n",
            "[6,  2000] loss: 1.040\n",
            "[6,  4000] loss: 1.024\n",
            "[7,  2000] loss: 0.952\n",
            "[7,  4000] loss: 0.948\n",
            "[8,  2000] loss: 0.879\n",
            "[8,  4000] loss: 0.865\n",
            "[9,  2000] loss: 0.807\n",
            "[9,  4000] loss: 0.810\n",
            "[10,  2000] loss: 0.759\n",
            "[10,  4000] loss: 0.757\n",
            "[11,  2000] loss: 0.712\n",
            "[11,  4000] loss: 0.707\n",
            "[12,  2000] loss: 0.663\n",
            "[12,  4000] loss: 0.682\n",
            "[13,  2000] loss: 0.625\n",
            "[13,  4000] loss: 0.633\n",
            "[14,  2000] loss: 0.582\n",
            "[14,  4000] loss: 0.609\n",
            "[15,  2000] loss: 0.554\n",
            "[15,  4000] loss: 0.572\n",
            "[16,  2000] loss: 0.532\n",
            "[16,  4000] loss: 0.543\n",
            "[17,  2000] loss: 0.489\n",
            "[17,  4000] loss: 0.511\n",
            "[18,  2000] loss: 0.466\n",
            "[18,  4000] loss: 0.486\n",
            "[19,  2000] loss: 0.434\n",
            "[19,  4000] loss: 0.464\n",
            "[20,  2000] loss: 0.412\n",
            "[20,  4000] loss: 0.441\n",
            "[21,  2000] loss: 0.394\n",
            "[21,  4000] loss: 0.414\n",
            "[22,  2000] loss: 0.367\n",
            "[22,  4000] loss: 0.403\n",
            "[23,  2000] loss: 0.345\n",
            "[23,  4000] loss: 0.381\n",
            "[24,  2000] loss: 0.327\n",
            "[24,  4000] loss: 0.359\n",
            "[25,  2000] loss: 0.319\n",
            "[25,  4000] loss: 0.324\n",
            "[26,  2000] loss: 0.305\n",
            "[26,  4000] loss: 0.322\n",
            "[27,  2000] loss: 0.284\n",
            "[27,  4000] loss: 0.310\n",
            "[28,  2000] loss: 0.262\n",
            "[28,  4000] loss: 0.293\n",
            "[29,  2000] loss: 0.251\n",
            "[29,  4000] loss: 0.281\n",
            "[30,  2000] loss: 0.248\n",
            "[30,  4000] loss: 0.267\n",
            "[31,  2000] loss: 0.233\n",
            "[31,  4000] loss: 0.262\n",
            "[32,  2000] loss: 0.225\n",
            "[32,  4000] loss: 0.253\n",
            "[33,  2000] loss: 0.223\n",
            "[33,  4000] loss: 0.237\n",
            "[34,  2000] loss: 0.207\n",
            "[34,  4000] loss: 0.233\n",
            "[35,  2000] loss: 0.201\n",
            "[35,  4000] loss: 0.208\n",
            "[36,  2000] loss: 0.200\n",
            "[36,  4000] loss: 0.214\n",
            "[37,  2000] loss: 0.189\n",
            "[37,  4000] loss: 0.215\n",
            "[38,  2000] loss: 0.178\n",
            "[38,  4000] loss: 0.214\n",
            "[39,  2000] loss: 0.177\n",
            "[39,  4000] loss: 0.206\n",
            "[40,  2000] loss: 0.169\n",
            "[40,  4000] loss: 0.184\n",
            "Finished Training\n"
          ]
        }
      ]
    },
    {
      "cell_type": "code",
      "source": [
        "correct = 0\n",
        "total = 0\n",
        "# since we're not training, we don't need to calculate the gradients for our outputs\n",
        "with torch.no_grad():\n",
        "    for data in test_loader:\n",
        "        images, labels = data\n",
        "        # calculate outputs by running images through the network\n",
        "        outputs = new_model(images)\n",
        "        # the class with the highest energy is what we choose as prediction\n",
        "        _, predicted = torch.max(outputs.data, 1)\n",
        "        total += labels.size(0)\n",
        "        correct += (predicted == labels).sum().item()\n",
        "\n",
        "print(f'Accuracy of the network on the 10000 test images: {100 * correct // total} %')"
      ],
      "metadata": {
        "colab": {
          "base_uri": "https://localhost:8080/"
        },
        "id": "c8cSZ75Mnj8g",
        "outputId": "ee06626f-aa07-41df-8a53-d2161285e638"
      },
      "execution_count": 19,
      "outputs": [
        {
          "output_type": "stream",
          "name": "stdout",
          "text": [
            "Accuracy of the network on the 10000 test images: 73 %\n"
          ]
        }
      ]
    },
    {
      "cell_type": "markdown",
      "source": [
        "El ritmo de entrenamiento del modelo que tiene el data augmentation es mas lento dado que debe tratar con datos alterados, agregando información que debe manejar. Esta mayor contingencia ralentiza el entrenamiento de este modelo."
      ],
      "metadata": {
        "id": "9-hZVx6XlAIZ"
      }
    }
  ]
}